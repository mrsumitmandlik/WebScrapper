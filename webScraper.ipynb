{
 "cells": [
  {
   "cell_type": "code",
   "execution_count": 3,
   "metadata": {},
   "outputs": [
    {
     "name": "stdout",
     "output_type": "stream",
     "text": [
      "Defaulting to user installation because normal site-packages is not writeable\n",
      "Requirement already satisfied: lxml in c:\\programdata\\anaconda3\\lib\\site-packages (4.9.2)\n"
     ]
    }
   ],
   "source": [
    "!pip install lxml\n"
   ]
  },
  {
   "cell_type": "code",
   "execution_count": 4,
   "metadata": {},
   "outputs": [
    {
     "name": "stdout",
     "output_type": "stream",
     "text": [
      "Product Title =  The Power of Your Subconscious Mind: Original Edition | Premium Paperback\n",
      "Product Price =  NA\n",
      "Overall Rating =  4.4 out of 5 stars\n",
      "Total Reviews =  11104 ratings\n",
      "Availability =  In stock\n"
     ]
    }
   ],
   "source": [
    "# Importing libraries\n",
    "from bs4 import BeautifulSoup\n",
    "import requests\n",
    "\n",
    "def main(URL):\n",
    "    # Opening the output file in append mode using a context manager\n",
    "    with open(\"out.csv\", \"a\") as file:\n",
    "        # Specifying user agent\n",
    "        HEADERS = {\n",
    "            'User-Agent': 'Mozilla/5.0 (X11; Linux x86_64) AppleWebKit/537.36 (KHTML, like Gecko) Chrome/44.0.2403.157 Safari/537.36',\n",
    "            'Accept-Language': 'en-US, en;q=0.5'\n",
    "        }\n",
    "\n",
    "        # Making the HTTP request\n",
    "        webpage = requests.get(URL, headers=HEADERS)\n",
    "\n",
    "        # Creating the Soup object containing all data\n",
    "        soup = BeautifulSoup(webpage.content, \"lxml\")\n",
    "\n",
    "        # Retrieving product title\n",
    "        try:\n",
    "            title = soup.find(\"span\", attrs={\"id\": 'productTitle'}).string.strip().replace(',', '')\n",
    "        except AttributeError:\n",
    "            title = \"NA\"\n",
    "        print(\"Product Title = \", title)\n",
    "        file.write(f\"{title},\")\n",
    "\n",
    "        # Retrieving price\n",
    "        try:\n",
    "            price = soup.find(\"span\", attrs={'class': 'a-price-whole'}).string.strip().replace(',', '')\n",
    "        except AttributeError:\n",
    "            price = \"NA\"\n",
    "        print(\"Product Price = \", price)\n",
    "        file.write(f\"{price},\")\n",
    "\n",
    "        # Retrieving product rating\n",
    "        try:\n",
    "            rating = soup.find(\"i\", attrs={'class': 'a-icon a-icon-star a-star-4-5'}).string.strip().replace(',', '')\n",
    "        except AttributeError:\n",
    "            try:\n",
    "                rating = soup.find(\"span\", attrs={'class': 'a-icon-alt'}).string.strip().replace(',', '')\n",
    "            except AttributeError:\n",
    "                rating = \"NA\"\n",
    "        print(\"Overall Rating = \", rating)\n",
    "        file.write(f\"{rating},\")\n",
    "\n",
    "        # Retrieving review count\n",
    "        try:\n",
    "            review_count = soup.find(\"span\", attrs={'id': 'acrCustomerReviewText'}).string.strip().replace(',', '')\n",
    "        except AttributeError:\n",
    "            review_count = \"NA\"\n",
    "        print(\"Total Reviews = \", review_count)\n",
    "        file.write(f\"{review_count},\")\n",
    "\n",
    "        # Retrieving availability status\n",
    "        try:\n",
    "            available = soup.find(\"div\", attrs={'id': 'availability'}).find(\"span\").string.strip().replace(',', '')\n",
    "        except AttributeError:\n",
    "            available = \"NA\"\n",
    "        print(\"Availability = \", available)\n",
    "        file.write(f\"{available}\\n\")\n",
    "\n",
    "\n",
    "if __name__ == '__main__':\n",
    "    # Opening the URL file to access URLs\n",
    "    with open(\"url.txt\", \"r\") as file:\n",
    "        # Iterating over the URLs\n",
    "        for url in file.readlines():\n",
    "            main(url.strip())\n"
   ]
  },
  {
   "cell_type": "code",
   "execution_count": null,
   "metadata": {},
   "outputs": [],
   "source": []
  }
 ],
 "metadata": {
  "kernelspec": {
   "display_name": "base",
   "language": "python",
   "name": "python3"
  },
  "language_info": {
   "codemirror_mode": {
    "name": "ipython",
    "version": 3
   },
   "file_extension": ".py",
   "mimetype": "text/x-python",
   "name": "python",
   "nbconvert_exporter": "python",
   "pygments_lexer": "ipython3",
   "version": "3.11.4"
  }
 },
 "nbformat": 4,
 "nbformat_minor": 2
}
